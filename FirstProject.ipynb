{
 "cells": [
  {
   "cell_type": "markdown",
   "id": "f1dffbff-7dde-4dec-a403-d0ee09836096",
   "metadata": {},
   "source": [
    "<h1>My Jupyter Notebook IBM Watson Studio</h1>"
   ]
  },
  {
   "cell_type": "markdown",
   "id": "94dc195d-1f2c-4772-b15d-cc609a798078",
   "metadata": {},
   "source": [
    "<div><b>Jordan Carter</b></div>\n",
    "To do research in Artificial intelligence"
   ]
  },
  {
   "cell_type": "markdown",
   "id": "c6d259e7-adbb-48d5-8960-406da1916be4",
   "metadata": {},
   "source": [
    "<i>I am interested in data science because I was interested in learning the process of collecting, processing, and analyzing data. I wanted to better understand this process in order to improve my data processing skills, and hopefully earn and intership with these skils while at college.</i>"
   ]
  },
  {
   "cell_type": "markdown",
   "id": "62c90a4c-b14f-4085-8c46-6ddd685058a0",
   "metadata": {},
   "source": [
    "<h3>Simply outputs the first 100 numbers in the console</h3> "
   ]
  },
  {
   "cell_type": "code",
   "execution_count": 8,
   "id": "41371fb6-37a4-46fd-a65e-58836136349c",
   "metadata": {},
   "outputs": [
    {
     "name": "stdout",
     "output_type": "stream",
     "text": [
      "1\n",
      "2\n",
      "3\n",
      "4\n",
      "5\n",
      "6\n",
      "7\n",
      "8\n",
      "9\n",
      "10\n",
      "11\n",
      "12\n",
      "13\n",
      "14\n",
      "15\n",
      "16\n",
      "17\n",
      "18\n",
      "19\n",
      "20\n",
      "21\n",
      "22\n",
      "23\n",
      "24\n",
      "25\n",
      "26\n",
      "27\n",
      "28\n",
      "29\n",
      "30\n",
      "31\n",
      "32\n",
      "33\n",
      "34\n",
      "35\n",
      "36\n",
      "37\n",
      "38\n",
      "39\n",
      "40\n",
      "41\n",
      "42\n",
      "43\n",
      "44\n",
      "45\n",
      "46\n",
      "47\n",
      "48\n",
      "49\n",
      "50\n",
      "51\n",
      "52\n",
      "53\n",
      "54\n",
      "55\n",
      "56\n",
      "57\n",
      "58\n",
      "59\n",
      "60\n",
      "61\n",
      "62\n",
      "63\n",
      "64\n",
      "65\n",
      "66\n",
      "67\n",
      "68\n",
      "69\n",
      "70\n",
      "71\n",
      "72\n",
      "73\n",
      "74\n",
      "75\n",
      "76\n",
      "77\n",
      "78\n",
      "79\n",
      "80\n",
      "81\n",
      "82\n",
      "83\n",
      "84\n",
      "85\n",
      "86\n",
      "87\n",
      "88\n",
      "89\n",
      "90\n",
      "91\n",
      "92\n",
      "93\n",
      "94\n",
      "95\n",
      "96\n",
      "97\n",
      "98\n",
      "99\n",
      "100\n"
     ]
    }
   ],
   "source": [
    "for i in range(100):\n",
    "    print(i + 1)"
   ]
  },
  {
   "cell_type": "markdown",
   "id": "a02e44fe-fba8-42ce-95f1-5275755b7012",
   "metadata": {},
   "source": [
    "<ul>\n",
    "    <li>Favorite Color: Black</li>\n",
    "    <li>Favorite Video Game: Pikmin</li>\n",
    "    <li>Favorite Show: Bleach</li>\n",
    "</ul>\n",
    "\n",
    "<table> \n",
    "    <tr> \n",
    "        <th>Subjects</th>\n",
    "        <th>Vehicles</th>\n",
    "    </tr>\n",
    "    <tr> \n",
    "        <th>Math</th>\n",
    "        <th>Car</th>\n",
    "    </tr>\n",
    "    <tr>\n",
    "        <th>English</th>\n",
    "        <th>Motorcycle</th>\n",
    "    </tr>\n",
    "</table>\n",
    "\n",
    "<p>This is a <del>stakethrough</del> strikethrough</p>"
   ]
  }
 ],
 "metadata": {
  "kernelspec": {
   "display_name": "Python 3 (ipykernel)",
   "language": "python",
   "name": "python3"
  },
  "language_info": {
   "codemirror_mode": {
    "name": "ipython",
    "version": 3
   },
   "file_extension": ".py",
   "mimetype": "text/x-python",
   "name": "python",
   "nbconvert_exporter": "python",
   "pygments_lexer": "ipython3",
   "version": "3.9.13"
  }
 },
 "nbformat": 4,
 "nbformat_minor": 5
}
