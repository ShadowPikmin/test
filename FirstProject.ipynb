{
 "cells": [
  {
   "cell_type": "markdown",
   "id": "f1dffbff-7dde-4dec-a403-d0ee09836096",
   "metadata": {},
   "source": [
    "<h1>My Jupyter Notebook IBM Watson Studio</h1>"
   ]
  },
  {
   "cell_type": "markdown",
   "id": "94dc195d-1f2c-4772-b15d-cc609a798078",
   "metadata": {},
   "source": [
    "<div><b>Jordan Carter</b></div>\n",
    "To do research in Artificial intelligence"
   ]
  },
  {
   "cell_type": "markdown",
   "id": "c6d259e7-adbb-48d5-8960-406da1916be4",
   "metadata": {},
   "source": [
    "<i>I am interested in data science because I was interested in learning the process of collecting, processing, and analyzing data. I wanted to better understand this process in order to improve my data processing skills, and hopefully earn and intership with these skils while at college.</i>"
   ]
  },
  {
   "cell_type": "markdown",
   "id": "62c90a4c-b14f-4085-8c46-6ddd685058a0",
   "metadata": {},
   "source": [
    "<h3>Simply outputs the first 10 numbers</h3> "
   ]
  },
  {
   "cell_type": "code",
   "execution_count": 1,
   "id": "41371fb6-37a4-46fd-a65e-58836136349c",
   "metadata": {},
   "outputs": [
    {
     "name": "stdout",
     "output_type": "stream",
     "text": [
      "1\n",
      "2\n",
      "3\n",
      "4\n",
      "5\n",
      "6\n",
      "7\n",
      "8\n",
      "9\n",
      "10\n"
     ]
    }
   ],
   "source": [
    "for i in range(10):\n",
    "    print(i + 1)"
   ]
  },
  {
   "cell_type": "markdown",
   "id": "a02e44fe-fba8-42ce-95f1-5275755b7012",
   "metadata": {},
   "source": [
    "<p>This is a <del>stakethrough</del> strikethrough</p>\n",
    "<ul>\n",
    "    <li>Favorite Color: Black</li>\n",
    "    <li>Favorite Video Game: Pikmin</li>\n",
    "    <li>Favorite Show: Bleach</li>\n",
    "</ul>\n",
    "\n",
    "<table> \n",
    "    <tr> \n",
    "        <th>Subjects</th>\n",
    "        <th>Vehicles</th>\n",
    "    </tr>\n",
    "    <tr> \n",
    "        <th>Math</th>\n",
    "        <th>Car</th>\n",
    "    </tr>\n",
    "    <tr>\n",
    "        <th>English</th>\n",
    "        <th>Motorcycle</th>\n",
    "    </tr>\n",
    "</table>"
   ]
  },
  {
   "cell_type": "code",
   "execution_count": null,
   "id": "1ca64102",
   "metadata": {},
   "outputs": [],
   "source": []
  }
 ],
 "metadata": {
  "kernelspec": {
   "display_name": "Python 3 (ipykernel)",
   "language": "python",
   "name": "python3"
  },
  "language_info": {
   "codemirror_mode": {
    "name": "ipython",
    "version": 3
   },
   "file_extension": ".py",
   "mimetype": "text/x-python",
   "name": "python",
   "nbconvert_exporter": "python",
   "pygments_lexer": "ipython3",
   "version": "3.9.13"
  }
 },
 "nbformat": 4,
 "nbformat_minor": 5
}
